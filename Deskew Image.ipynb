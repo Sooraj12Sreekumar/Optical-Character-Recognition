{
 "cells": [
  {
   "cell_type": "code",
   "execution_count": null,
   "metadata": {},
   "outputs": [],
   "source": [
    "import cv2\n",
    "import numpy as np"
   ]
  },
  {
   "cell_type": "code",
   "execution_count": null,
   "metadata": {},
   "outputs": [],
   "source": [
    "def deskew_image_preserve_color(image_path, output_path):\n",
    "    color_img = cv2.imread(image_path)\n",
    "    if color_img is None:\n",
    "        raise ValueError(f\"Could not read the image at {image_path}\")\n",
    "    \n",
    "    gray = cv2.cvtColor(color_img, cv2.COLOR_BGR2GRAY)\n",
    "    \n",
    "    _, thresh = cv2.threshold(gray, 150, 255, cv2.THRESH_BINARY)\n",
    "    \n",
    "    contours, _ = cv2.findContours(thresh, cv2.RETR_EXTERNAL, cv2.CHAIN_APPROX_SIMPLE)\n",
    "    contours = sorted(contours, key=cv2.contourArea, reverse=True)\n",
    "    \n",
    "    for contour in contours:\n",
    "        epsilon = 0.02 * cv2.arcLength(contour, True)\n",
    "        approx = cv2.approxPolyDP(contour, epsilon, True)\n",
    "        \n",
    "        if len(approx) == 4: \n",
    "            corners = approx\n",
    "            break\n",
    "    else:\n",
    "        print(\"No paper-like structure detected.\")\n",
    "        return\n",
    "    \n",
    "    pts = corners.reshape(4, 2)\n",
    "    rect = np.zeros((4, 2), dtype=\"float32\")\n",
    "    \n",
    "    s = pts.sum(axis=1)\n",
    "    rect[0] = pts[np.argmin(s)]  \n",
    "    rect[2] = pts[np.argmax(s)]  \n",
    "\n",
    "    diff = np.diff(pts, axis=1)\n",
    "    rect[1] = pts[np.argmin(diff)]  \n",
    "    rect[3] = pts[np.argmax(diff)]  \n",
    "    \n",
    "\n",
    "    (tl, tr, br, bl) = rect\n",
    "    width = max(int(np.linalg.norm(br - bl)), int(np.linalg.norm(tr - tl)))\n",
    "    height = max(int(np.linalg.norm(tr - br)), int(np.linalg.norm(tl - bl)))\n",
    "\n",
    "    dst = np.array([\n",
    "        [0, 0],\n",
    "        [width - 1, 0],\n",
    "        [width - 1, height - 1],\n",
    "        [0, height - 1]\n",
    "    ], dtype=\"float32\")\n",
    "\n",
    "\n",
    "    M = cv2.getPerspectiveTransform(rect, dst)\n",
    "    \n",
    "\n",
    "    deskewed = cv2.warpPerspective(color_img, M, (width, height))\n",
    "\n",
    "\n",
    "    cv2.imwrite(output_path, deskewed)"
   ]
  },
  {
   "cell_type": "code",
   "execution_count": null,
   "metadata": {},
   "outputs": [],
   "source": [
    "input_image = 'D:\\\\Deskew_Images_Code\\\\Crop_Results\\\\Image 10.png'\n",
    "output_image = 'D:\\\\Deskew_Images_Code\\\\Results\\\\Image 10.png'\n",
    "deskew_image_preserve_color(input_image, output_image)"
   ]
  }
 ],
 "metadata": {
  "kernelspec": {
   "display_name": "Python 3",
   "language": "python",
   "name": "python3"
  },
  "language_info": {
   "codemirror_mode": {
    "name": "ipython",
    "version": 3
   },
   "file_extension": ".py",
   "mimetype": "text/x-python",
   "name": "python",
   "nbconvert_exporter": "python",
   "pygments_lexer": "ipython3",
   "version": "3.10.0"
  }
 },
 "nbformat": 4,
 "nbformat_minor": 2
}
