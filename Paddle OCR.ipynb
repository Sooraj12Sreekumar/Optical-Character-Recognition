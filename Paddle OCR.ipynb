{
 "cells": [
  {
   "cell_type": "code",
   "execution_count": 1,
   "metadata": {},
   "outputs": [
    {
     "name": "stderr",
     "output_type": "stream",
     "text": [
      "c:\\Users\\kumaran\\AppData\\Local\\Programs\\Python\\Python310\\lib\\site-packages\\skimage\\morphology\\binary.py:6: UserWarning: A NumPy version >=1.23.5 and <2.3.0 is required for this version of SciPy (detected version 1.21.0)\n",
      "  from scipy import ndimage as ndi\n"
     ]
    }
   ],
   "source": [
    "from PIL import Image\n",
    "from paddleocr import PaddleOCR"
   ]
  },
  {
   "cell_type": "code",
   "execution_count": 2,
   "metadata": {},
   "outputs": [
    {
     "name": "stdout",
     "output_type": "stream",
     "text": [
      "download https://paddleocr.bj.bcebos.com/PP-OCRv3/english/en_PP-OCRv3_det_infer.tar to C:\\Users\\kumaran/.paddleocr/whl\\det\\en\\en_PP-OCRv3_det_infer\\en_PP-OCRv3_det_infer.tar\n"
     ]
    },
    {
     "name": "stderr",
     "output_type": "stream",
     "text": [
      "100%|██████████| 3910/3910 [00:02<00:00, 1928.28it/s]\n"
     ]
    },
    {
     "name": "stdout",
     "output_type": "stream",
     "text": [
      "download https://paddleocr.bj.bcebos.com/PP-OCRv4/english/en_PP-OCRv4_rec_infer.tar to C:\\Users\\kumaran/.paddleocr/whl\\rec\\en\\en_PP-OCRv4_rec_infer\\en_PP-OCRv4_rec_infer.tar\n"
     ]
    },
    {
     "name": "stderr",
     "output_type": "stream",
     "text": [
      "100%|██████████| 10000/10000 [00:02<00:00, 3549.77it/s]\n"
     ]
    },
    {
     "name": "stdout",
     "output_type": "stream",
     "text": [
      "download https://paddleocr.bj.bcebos.com/dygraph_v2.0/ch/ch_ppocr_mobile_v2.0_cls_infer.tar to C:\\Users\\kumaran/.paddleocr/whl\\cls\\ch_ppocr_mobile_v2.0_cls_infer\\ch_ppocr_mobile_v2.0_cls_infer.tar\n"
     ]
    },
    {
     "name": "stderr",
     "output_type": "stream",
     "text": [
      "100%|██████████| 2138/2138 [00:04<00:00, 434.08it/s]"
     ]
    },
    {
     "name": "stdout",
     "output_type": "stream",
     "text": [
      "[2024/11/27 16:44:58] ppocr DEBUG: Namespace(help='==SUPPRESS==', use_gpu=False, use_xpu=False, use_npu=False, use_mlu=False, ir_optim=True, use_tensorrt=False, min_subgraph_size=15, precision='fp32', gpu_mem=500, gpu_id=0, image_dir=None, page_num=0, det_algorithm='DB', det_model_dir='C:\\\\Users\\\\kumaran/.paddleocr/whl\\\\det\\\\en\\\\en_PP-OCRv3_det_infer', det_limit_side_len=960, det_limit_type='max', det_box_type='quad', det_db_thresh=0.3, det_db_box_thresh=0.6, det_db_unclip_ratio=1.5, max_batch_size=10, use_dilation=False, det_db_score_mode='fast', det_east_score_thresh=0.8, det_east_cover_thresh=0.1, det_east_nms_thresh=0.2, det_sast_score_thresh=0.5, det_sast_nms_thresh=0.2, det_pse_thresh=0, det_pse_box_thresh=0.85, det_pse_min_area=16, det_pse_scale=1, scales=[8, 16, 32], alpha=1.0, beta=1.0, fourier_degree=5, rec_algorithm='SVTR_LCNet', rec_model_dir='C:\\\\Users\\\\kumaran/.paddleocr/whl\\\\rec\\\\en\\\\en_PP-OCRv4_rec_infer', rec_image_inverse=True, rec_image_shape='3, 48, 320', rec_batch_num=6, max_text_length=25, rec_char_dict_path='c:\\\\Users\\\\kumaran\\\\AppData\\\\Local\\\\Programs\\\\Python\\\\Python310\\\\lib\\\\site-packages\\\\paddleocr\\\\ppocr\\\\utils\\\\en_dict.txt', use_space_char=True, vis_font_path='./doc/fonts/simfang.ttf', drop_score=0.5, e2e_algorithm='PGNet', e2e_model_dir=None, e2e_limit_side_len=768, e2e_limit_type='max', e2e_pgnet_score_thresh=0.5, e2e_char_dict_path='./ppocr/utils/ic15_dict.txt', e2e_pgnet_valid_set='totaltext', e2e_pgnet_mode='fast', use_angle_cls=True, cls_model_dir='C:\\\\Users\\\\kumaran/.paddleocr/whl\\\\cls\\\\ch_ppocr_mobile_v2.0_cls_infer', cls_image_shape='3, 48, 192', label_list=['0', '180'], cls_batch_num=6, cls_thresh=0.9, enable_mkldnn=False, cpu_threads=10, use_pdserving=False, warmup=False, sr_model_dir=None, sr_image_shape='3, 32, 128', sr_batch_num=1, draw_img_save_dir='./inference_results', save_crop_res=False, crop_res_save_dir='./output', use_mp=False, total_process_num=1, process_id=0, benchmark=False, save_log_path='./log_output/', show_log=True, use_onnx=False, return_word_box=False, output='./output', table_max_len=488, table_algorithm='TableAttn', table_model_dir=None, merge_no_span_structure=True, table_char_dict_path=None, formula_algorithm='LaTeXOCR', formula_model_dir=None, formula_char_dict_path=None, formula_batch_num=1, layout_model_dir=None, layout_dict_path=None, layout_score_threshold=0.5, layout_nms_threshold=0.5, kie_algorithm='LayoutXLM', ser_model_dir=None, re_model_dir=None, use_visual_backbone=True, ser_dict_path='../train_data/XFUND/class_list_xfun.txt', ocr_order_method=None, mode='structure', image_orientation=False, layout=True, table=True, formula=False, ocr=True, recovery=False, recovery_to_markdown=False, use_pdf2docx_api=False, invert=False, binarize=False, alphacolor=(255, 255, 255), lang='en', det=True, rec=True, type='ocr', savefile=False, ocr_version='PP-OCRv4', structure_version='PP-StructureV2')\n"
     ]
    },
    {
     "name": "stderr",
     "output_type": "stream",
     "text": [
      "\n"
     ]
    }
   ],
   "source": [
    "ocr  = PaddleOCR(use_angle_cls=True, lang = 'en')"
   ]
  },
  {
   "cell_type": "code",
   "execution_count": 3,
   "metadata": {},
   "outputs": [],
   "source": [
    "image='D:\\\\Paddle OCR\\\\Data\\\\Binary Image.jpg'"
   ]
  },
  {
   "cell_type": "code",
   "execution_count": 4,
   "metadata": {},
   "outputs": [
    {
     "name": "stdout",
     "output_type": "stream",
     "text": [
      "[2024/11/27 16:46:56] ppocr DEBUG: dt_boxes num : 58, elapsed : 0.7983455657958984\n",
      "[2024/11/27 16:46:57] ppocr DEBUG: cls num  : 58, elapsed : 0.255582332611084\n",
      "[2024/11/27 16:46:59] ppocr DEBUG: rec_res num  : 58, elapsed : 2.610640048980713\n"
     ]
    }
   ],
   "source": [
    "result = ocr.ocr(image,cls=True)"
   ]
  },
  {
   "cell_type": "code",
   "execution_count": 5,
   "metadata": {},
   "outputs": [
    {
     "name": "stdout",
     "output_type": "stream",
     "text": [
      "Extracted Text\n",
      " Zylker Electronics Hub\n",
      "14B, Northern Street\n",
      "Greater South Avenue\n",
      "INVOICE\n",
      " New York New York 10001\n",
      "U.S.A\n",
      "Invoice#\n",
      "INV-000001\n",
      "Invoice Date\n",
      "05 Aug 2024\n",
      "Terms\n",
      "Due on Receipt\n",
      "Due Date\n",
      "05 Aug 2024\n",
      " Bill To\n",
      "$hip To\n",
      "Ms. Mary D. Dunton\n",
      "1324 Hinkle Lake Road\n",
      "Needham\n",
      "1324 Hinkle Lake Road\n",
      " Needham\n",
      "02192Maine\n",
      "02192 Maine\n",
      "Item & Description\n",
      "Qty\n",
      "Rate\n",
      "Amount\n",
      "Camera\n",
      "1.00\n",
      "$899.00\n",
      "899.00\n",
      "DSLR camera with advanced shooting\n",
      "capabilities\n",
      "2\n",
      "Fitness Tracker\n",
      "1.00\n",
      "$129.00\n",
      "$129.00\n",
      "Activity tracker with heart rate monitoring\n",
      "3\n",
      "Laptop\n",
      "1.00\n",
      "$1,199.00\n",
      "$1,199.00\n",
      "Lightweight laptop with a powerful processor\n",
      "$2,227.00\n",
      "Tax Rate\n",
      "5.00%\n",
      "Thanks for shopping with us.\n",
      "Total\n",
      "$2,338.35\n",
      "Terms & Conditions\n",
      "Balance Due\n",
      "$2,338.35\n",
      "Full payment is due upon receipt of this invoice.\n",
      "Late payments may incur additional charges or\n",
      "interest as per the applicable laws.\n",
      "\n"
     ]
    }
   ],
   "source": [
    "extracted_text = \"\"\n",
    "\n",
    "for line in result[0]:\n",
    "    extracted_text += line[1][0] + \"\\n\"\n",
    "\n",
    "\n",
    "print(\"Extracted Text\\n\", extracted_text)"
   ]
  },
  {
   "cell_type": "code",
   "execution_count": null,
   "metadata": {},
   "outputs": [],
   "source": []
  }
 ],
 "metadata": {
  "kernelspec": {
   "display_name": "Python 3",
   "language": "python",
   "name": "python3"
  },
  "language_info": {
   "codemirror_mode": {
    "name": "ipython",
    "version": 3
   },
   "file_extension": ".py",
   "mimetype": "text/x-python",
   "name": "python",
   "nbconvert_exporter": "python",
   "pygments_lexer": "ipython3",
   "version": "3.10.0"
  }
 },
 "nbformat": 4,
 "nbformat_minor": 2
}
