{
 "cells": [
  {
   "cell_type": "code",
   "execution_count": null,
   "metadata": {},
   "outputs": [],
   "source": [
    "from wand.image import Image as WandImage\n",
    "import os"
   ]
  },
  {
   "cell_type": "code",
   "execution_count": null,
   "metadata": {},
   "outputs": [],
   "source": [
    "def deskew_image(image_path, output_directory):\n",
    "    _, filename = os.path.split(image_path)\n",
    "    base_name, _ = os.path.splitext(filename)\n",
    "\n",
    "    result_filename = os.path.join(output_directory, f'{base_name}.png')\n",
    "\n",
    "    with WandImage(filename=image_path) as img:\n",
    "        img.deskew(0.9 * img.quantum_range)\n",
    "\n",
    "        img.format = 'PNG'\n",
    "\n",
    "        img.save(filename=result_filename)\n",
    "\n",
    "    return result_filename"
   ]
  },
  {
   "cell_type": "code",
   "execution_count": null,
   "metadata": {},
   "outputs": [],
   "source": [
    "image_path = 'D:\\\\Deskew_Images_Code\\\\Crop_Results\\\\Image 10.png'\n",
    "\n",
    "output_directory = 'D:\\\\Deskew_Images_Code\\\\Results'\n",
    "\n",
    "result_file_path = deskew_image(image_path, output_directory)"
   ]
  }
 ],
 "metadata": {
  "kernelspec": {
   "display_name": "Python 3",
   "language": "python",
   "name": "python3"
  },
  "language_info": {
   "codemirror_mode": {
    "name": "ipython",
    "version": 3
   },
   "file_extension": ".py",
   "mimetype": "text/x-python",
   "name": "python",
   "nbconvert_exporter": "python",
   "pygments_lexer": "ipython3",
   "version": "3.10.0"
  }
 },
 "nbformat": 4,
 "nbformat_minor": 2
}
