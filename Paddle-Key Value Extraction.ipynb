{
 "cells": [
  {
   "cell_type": "code",
   "execution_count": 110,
   "metadata": {},
   "outputs": [],
   "source": [
    "from paddleocr import PaddleOCR\n",
    "import cv2"
   ]
  },
  {
   "cell_type": "code",
   "execution_count": 111,
   "metadata": {},
   "outputs": [
    {
     "name": "stdout",
     "output_type": "stream",
     "text": [
      "[2025/01/08 17:53:12] ppocr DEBUG: Namespace(help='==SUPPRESS==', use_gpu=False, use_xpu=False, use_npu=False, use_mlu=False, ir_optim=True, use_tensorrt=False, min_subgraph_size=15, precision='fp32', gpu_mem=500, gpu_id=0, image_dir=None, page_num=0, det_algorithm='DB', det_model_dir='C:\\\\Users\\\\kumaran/.paddleocr/whl\\\\det\\\\en\\\\en_PP-OCRv3_det_infer', det_limit_side_len=960, det_limit_type='max', det_box_type='quad', det_db_thresh=0.3, det_db_box_thresh=0.6, det_db_unclip_ratio=1.5, max_batch_size=10, use_dilation=False, det_db_score_mode='fast', det_east_score_thresh=0.8, det_east_cover_thresh=0.1, det_east_nms_thresh=0.2, det_sast_score_thresh=0.5, det_sast_nms_thresh=0.2, det_pse_thresh=0, det_pse_box_thresh=0.85, det_pse_min_area=16, det_pse_scale=1, scales=[8, 16, 32], alpha=1.0, beta=1.0, fourier_degree=5, rec_algorithm='SVTR_LCNet', rec_model_dir='C:\\\\Users\\\\kumaran/.paddleocr/whl\\\\rec\\\\en\\\\en_PP-OCRv4_rec_infer', rec_image_inverse=True, rec_image_shape='3, 48, 320', rec_batch_num=6, max_text_length=25, rec_char_dict_path='c:\\\\Users\\\\kumaran\\\\AppData\\\\Local\\\\Programs\\\\Python\\\\Python310\\\\lib\\\\site-packages\\\\paddleocr\\\\ppocr\\\\utils\\\\en_dict.txt', use_space_char=True, vis_font_path='./doc/fonts/simfang.ttf', drop_score=0.5, e2e_algorithm='PGNet', e2e_model_dir=None, e2e_limit_side_len=768, e2e_limit_type='max', e2e_pgnet_score_thresh=0.5, e2e_char_dict_path='./ppocr/utils/ic15_dict.txt', e2e_pgnet_valid_set='totaltext', e2e_pgnet_mode='fast', use_angle_cls=False, cls_model_dir='C:\\\\Users\\\\kumaran/.paddleocr/whl\\\\cls\\\\ch_ppocr_mobile_v2.0_cls_infer', cls_image_shape='3, 48, 192', label_list=['0', '180'], cls_batch_num=6, cls_thresh=0.9, enable_mkldnn=False, cpu_threads=10, use_pdserving=False, warmup=False, sr_model_dir=None, sr_image_shape='3, 32, 128', sr_batch_num=1, draw_img_save_dir='./inference_results', save_crop_res=False, crop_res_save_dir='./output', use_mp=False, total_process_num=1, process_id=0, benchmark=False, save_log_path='./log_output/', show_log=True, use_onnx=False, return_word_box=False, output='./output', table_max_len=488, table_algorithm='TableAttn', table_model_dir=None, merge_no_span_structure=True, table_char_dict_path=None, formula_algorithm='LaTeXOCR', formula_model_dir=None, formula_char_dict_path=None, formula_batch_num=1, layout_model_dir=None, layout_dict_path=None, layout_score_threshold=0.5, layout_nms_threshold=0.5, kie_algorithm='LayoutXLM', ser_model_dir=None, re_model_dir=None, use_visual_backbone=True, ser_dict_path='../train_data/XFUND/class_list_xfun.txt', ocr_order_method=None, mode='structure', image_orientation=False, layout=True, table=True, formula=False, ocr=True, recovery=False, recovery_to_markdown=False, use_pdf2docx_api=False, invert=False, binarize=False, alphacolor=(255, 255, 255), lang='en', det=True, rec=True, type='ocr', savefile=False, ocr_version='PP-OCRv4', structure_version='PP-StructureV2', use_angle_classifier=True)\n"
     ]
    }
   ],
   "source": [
    "ocr = PaddleOCR(use_angle_classifier = True, lang = \"en\")"
   ]
  },
  {
   "cell_type": "code",
   "execution_count": 112,
   "metadata": {},
   "outputs": [],
   "source": [
    "image_path = \"D:\\\\Paddle OCR-Key Value\\\\Data\\\\Image 1.jpeg\"\n",
    "img = cv2.imread(image_path)"
   ]
  },
  {
   "cell_type": "code",
   "execution_count": 113,
   "metadata": {},
   "outputs": [
    {
     "name": "stdout",
     "output_type": "stream",
     "text": [
      "[2025/01/08 17:53:13] ppocr WARNING: Since the angle classifier is not initialized, it will not be used during the forward process\n",
      "[2025/01/08 17:53:13] ppocr DEBUG: dt_boxes num : 11, elapsed : 0.04399514198303223\n",
      "[2025/01/08 17:53:14] ppocr DEBUG: rec_res num  : 11, elapsed : 0.6428167819976807\n"
     ]
    }
   ],
   "source": [
    "result = ocr.ocr(img)"
   ]
  },
  {
   "cell_type": "code",
   "execution_count": 114,
   "metadata": {},
   "outputs": [
    {
     "data": {
      "text/plain": [
       "[[[[[8.0, 9.0], [99.0, 9.0], [99.0, 17.0], [8.0, 17.0]],\n",
       "   ('Current Date (mmm/dd/yyyy)', 0.8819506764411926)],\n",
       "  [[[113.0, 8.0], [157.0, 8.0], [157.0, 16.0], [113.0, 16.0]],\n",
       "   ('Rep sDNumber', 0.8290531635284424)],\n",
       "  [[[8.0, 18.0], [89.0, 18.0], [89.0, 30.0], [8.0, 30.0]],\n",
       "   ('September15,2023', 0.9503391981124878)],\n",
       "  [[[234.0, 17.0], [438.0, 17.0], [438.0, 29.0], [234.0, 29.0]],\n",
       "   ('COMMERCE PLACE-MAIN BANKING CENTRE O0010', 0.9300739169120789)],\n",
       "  [[[7.0, 34.0], [49.0, 34.0], [49.0, 45.0], [7.0, 45.0]],\n",
       "   ('Lcan Number', 0.9318159222602844)],\n",
       "  [[[113.0, 35.0], [154.0, 35.0], [154.0, 43.0], [113.0, 43.0]],\n",
       "   ('Loan Amount', 0.9760630130767822)],\n",
       "  [[[372.0, 34.0], [543.0, 34.0], [543.0, 45.0], [372.0, 45.0]],\n",
       "   ('Total Payment including Insurance [and tax, if applicable',\n",
       "    0.8110212087631226)],\n",
       "  [[[8.0, 57.0], [61.0, 57.0], [61.0, 68.0], [8.0, 68.0]],\n",
       "   ('3068484858', 0.9949720501899719)],\n",
       "  [[[113.0, 57.0], [158.0, 57.0], [158.0, 68.0], [113.0, 68.0]],\n",
       "   ('$3,000.00', 0.9608368277549744)],\n",
       "  [[[233.0, 57.0], [306.0, 57.0], [306.0, 69.0], [233.0, 69.0]],\n",
       "   ('$171.73 Monthly', 0.9475447535514832)],\n",
       "  [[[373.0, 57.0], [443.0, 57.0], [443.0, 68.0], [373.0, 68.0]],\n",
       "   ('$181.50Monthly', 0.9879669547080994)]]]"
      ]
     },
     "execution_count": 114,
     "metadata": {},
     "output_type": "execute_result"
    }
   ],
   "source": [
    "result"
   ]
  },
  {
   "cell_type": "code",
   "execution_count": null,
   "metadata": {},
   "outputs": [
    {
     "name": "stdout",
     "output_type": "stream",
     "text": [
      "Extracted OCR result:\n",
      "Current Date (mmm/dd/yyyy)\n",
      "Rep sDNumber\n",
      "September15,2023\n",
      "COMMERCE PLACE-MAIN BANKING CENTRE O0010\n",
      "Lcan Number\n",
      "Loan Amount\n",
      "Total Payment including Insurance [and tax, if applicable\n",
      "3068484858\n",
      "$3,000.00\n",
      "$171.73 Monthly\n",
      "$181.50Monthly\n"
     ]
    }
   ],
   "source": [
    "print(\"Extracted OCR result:\")\n",
    "for line in result:\n",
    "    for item in line:\n",
    "        txt = item[1][0]  \n",
    "        print(txt)"
   ]
  },
  {
   "cell_type": "code",
   "execution_count": null,
   "metadata": {},
   "outputs": [
    {
     "name": "stdout",
     "output_type": "stream",
     "text": [
      "Keys List: ['Current Date (mmm/dd/yyyy)', 'Rep sDNumber', 'Lcan Number', 'Loan Amount', 'Total Payment including Insurance [and tax, if applicable']\n",
      "Values List: ['September15,2023', 'COMMERCE PLACE-MAIN BANKING CENTRE O0010', '3068484858', '$3,000.00', '$171.73 Monthly', '$181.50Monthly']\n"
     ]
    }
   ],
   "source": [
    "text = \"\"\"\n",
    "Current Date (mmm/dd/yyyy)\n",
    "Rep sDNumber\n",
    "September15,2023\n",
    "COMMERCE PLACE-MAIN BANKING CENTRE O0010\n",
    "Lcan Number\n",
    "Loan Amount\n",
    "Total Payment including Insurance [and tax, if applicable\n",
    "3068484858\n",
    "$3,000.00\n",
    "$171.73 Monthly\n",
    "$181.50Monthly\n",
    "\n",
    "\"\"\"\n",
    "\n",
    "#keys = [\"Sabrina Summer\", \"Company\", \"Web\", \"Phone\", \"Job Title\", \"Date of birth\", \"Street\", \"City\", \"Postcode\", \"Country\"]\n",
    "keys = [\"Current Date (mmm/dd/yyyy)\", \"Rep sDNumber\", \"Lcan Number\", \"Loan Amount\", \"Total Payment including Insurance [and tax, if applicable\"]\n",
    "\n",
    "values = []\n",
    "\n",
    "\n",
    "for line in text.splitlines():\n",
    "    line = line.strip()  \n",
    "    if line and line not in keys:  \n",
    "        values.append(line)\n",
    "\n",
    "\n",
    "print(\"Keys List:\", keys)\n",
    "print(\"Values List:\", values)\n"
   ]
  },
  {
   "cell_type": "code",
   "execution_count": null,
   "metadata": {},
   "outputs": [],
   "source": []
  }
 ],
 "metadata": {
  "kernelspec": {
   "display_name": "Python 3",
   "language": "python",
   "name": "python3"
  },
  "language_info": {
   "codemirror_mode": {
    "name": "ipython",
    "version": 3
   },
   "file_extension": ".py",
   "mimetype": "text/x-python",
   "name": "python",
   "nbconvert_exporter": "python",
   "pygments_lexer": "ipython3",
   "version": "3.10.0"
  }
 },
 "nbformat": 4,
 "nbformat_minor": 2
}
